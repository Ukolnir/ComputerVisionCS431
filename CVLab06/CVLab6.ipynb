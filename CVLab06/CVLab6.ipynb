{
  "nbformat": 4,
  "nbformat_minor": 0,
  "metadata": {
    "colab": {
      "name": "CVLab6.ipynb",
      "provenance": [],
      "collapsed_sections": []
    },
    "kernelspec": {
      "name": "python3",
      "display_name": "Python 3"
    }
  },
  "cells": [
    {
      "cell_type": "code",
      "metadata": {
        "id": "RTFHPKd-AMo8",
        "colab_type": "code",
        "colab": {}
      },
      "source": [
        "import numpy as np\n",
        "import cv2\n",
        "from matplotlib import pyplot as plt"
      ],
      "execution_count": 0,
      "outputs": []
    },
    {
      "cell_type": "code",
      "metadata": {
        "id": "m4SwGIA3w_8L",
        "colab_type": "code",
        "colab": {
          "base_uri": "https://localhost:8080/",
          "height": 34
        },
        "outputId": "a3e31516-475a-4914-ccfa-5324e17b863c"
      },
      "source": [
        "img = cv2.imread('Lab6Cut.png')\n",
        "gray = cv2.cvtColor(img,cv2.COLOR_BGR2GRAY)\n",
        "\n",
        "ret, thresh = cv2.threshold(gray,70, 255,cv2.THRESH_BINARY_INV)\n",
        "cv2.imwrite('binary.png',thresh)"
      ],
      "execution_count": 6,
      "outputs": [
        {
          "output_type": "execute_result",
          "data": {
            "text/plain": [
              "True"
            ]
          },
          "metadata": {
            "tags": []
          },
          "execution_count": 6
        }
      ]
    },
    {
      "cell_type": "code",
      "metadata": {
        "id": "4hJ2e9t2xWqF",
        "colab_type": "code",
        "outputId": "7f1173b9-fada-4925-aad2-620f41d84542",
        "colab": {
          "base_uri": "https://localhost:8080/",
          "height": 34
        }
      },
      "source": [
        "kernel = np.ones((3,3),np.uint8)\n",
        "closing = cv2.morphologyEx(thresh,cv2.MORPH_CLOSE,kernel, iterations = 2) #для удаления шума\n",
        "cv2.imwrite('closing.png', closing)"
      ],
      "execution_count": 7,
      "outputs": [
        {
          "output_type": "execute_result",
          "data": {
            "text/plain": [
              "True"
            ]
          },
          "metadata": {
            "tags": []
          },
          "execution_count": 7
        }
      ]
    },
    {
      "cell_type": "code",
      "metadata": {
        "id": "A1ahP8cMv_6a",
        "colab_type": "code",
        "colab": {
          "base_uri": "https://localhost:8080/",
          "height": 34
        },
        "outputId": "5a41f82b-05c2-4087-d1b5-5b814c174c83"
      },
      "source": [
        "# Маркер, показывающий, где точно находится фон\n",
        "sure_bg = cv2.dilate(thresh,kernel,iterations=7)\n",
        "cv2.imwrite('sure_bg.png', sure_bg)"
      ],
      "execution_count": 8,
      "outputs": [
        {
          "output_type": "execute_result",
          "data": {
            "text/plain": [
              "True"
            ]
          },
          "metadata": {
            "tags": []
          },
          "execution_count": 8
        }
      ]
    },
    {
      "cell_type": "code",
      "metadata": {
        "id": "GJwls6KG8FKm",
        "colab_type": "code",
        "colab": {
          "base_uri": "https://localhost:8080/",
          "height": 34
        },
        "outputId": "5bbcacea-52d8-4e94-ed68-acb4c17fadfe"
      },
      "source": [
        "# Маркер, показывающий, где точно находятся объекты\n",
        "erode = cv2.erode(thresh,kernel,iterations = 7)\n",
        "cv2.imwrite('sure_fg.png', erode)"
      ],
      "execution_count": 10,
      "outputs": [
        {
          "output_type": "execute_result",
          "data": {
            "text/plain": [
              "True"
            ]
          },
          "metadata": {
            "tags": []
          },
          "execution_count": 10
        }
      ]
    },
    {
      "cell_type": "code",
      "metadata": {
        "id": "a0cBpz3HwSBw",
        "colab_type": "code",
        "colab": {
          "base_uri": "https://localhost:8080/",
          "height": 34
        },
        "outputId": "342f699e-a9e4-4028-ec08-8f923772c4d5"
      },
      "source": [
        "sure_fg = np.uint8(erode)\n",
        "unknown = cv2.subtract(sure_bg,sure_fg)\n",
        "cv2.imwrite('unknown.png', unknown)"
      ],
      "execution_count": 12,
      "outputs": [
        {
          "output_type": "execute_result",
          "data": {
            "text/plain": [
              "True"
            ]
          },
          "metadata": {
            "tags": []
          },
          "execution_count": 12
        }
      ]
    },
    {
      "cell_type": "code",
      "metadata": {
        "id": "CoJEEQemxeVh",
        "colab_type": "code",
        "colab": {}
      },
      "source": [
        "ret, markers = cv2.connectedComponents(sure_fg)\n",
        "\n",
        "markers = markers+1\n",
        "markers[unknown==255] = 0"
      ],
      "execution_count": 0,
      "outputs": []
    },
    {
      "cell_type": "code",
      "metadata": {
        "id": "hdHBVu9Cxk3i",
        "colab_type": "code",
        "colab": {}
      },
      "source": [
        "markers = cv2.watershed(img,markers)\n",
        "img[markers == -1] = [0,0,255]"
      ],
      "execution_count": 0,
      "outputs": []
    },
    {
      "cell_type": "code",
      "metadata": {
        "id": "7r2r-LFcxntp",
        "colab_type": "code",
        "outputId": "d4892db3-2d25-48e8-e05a-70d378fe33ab",
        "colab": {
          "base_uri": "https://localhost:8080/",
          "height": 34
        }
      },
      "source": [
        "cv2.imwrite('result.png', img)"
      ],
      "execution_count": 16,
      "outputs": [
        {
          "output_type": "execute_result",
          "data": {
            "text/plain": [
              "True"
            ]
          },
          "metadata": {
            "tags": []
          },
          "execution_count": 16
        }
      ]
    },
    {
      "cell_type": "code",
      "metadata": {
        "id": "w3cX0pnjxzyb",
        "colab_type": "code",
        "colab": {}
      },
      "source": [
        ""
      ],
      "execution_count": 0,
      "outputs": []
    }
  ]
}