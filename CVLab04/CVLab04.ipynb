{
  "nbformat": 4,
  "nbformat_minor": 0,
  "metadata": {
    "colab": {
      "name": "CVLab04.ipynb",
      "provenance": [],
      "collapsed_sections": []
    },
    "kernelspec": {
      "name": "python3",
      "display_name": "Python 3"
    }
  },
  "cells": [
    {
      "cell_type": "code",
      "metadata": {
        "id": "k0TXb6hQfyhZ",
        "colab_type": "code",
        "colab": {}
      },
      "source": [
        "import cv2"
      ],
      "execution_count": 0,
      "outputs": []
    },
    {
      "cell_type": "code",
      "metadata": {
        "id": "5ry1tvNviIBB",
        "colab_type": "code",
        "colab": {}
      },
      "source": [
        "img = cv2.imread('skeleton2.png')"
      ],
      "execution_count": 0,
      "outputs": []
    },
    {
      "cell_type": "code",
      "metadata": {
        "id": "hEFg8ebRiY4h",
        "colab_type": "code",
        "colab": {}
      },
      "source": [
        "import numpy as np"
      ],
      "execution_count": 0,
      "outputs": []
    },
    {
      "cell_type": "code",
      "metadata": {
        "id": "AbW30L2ZvpdN",
        "colab_type": "code",
        "outputId": "7217ba51-51d0-47de-f926-79d74b02362d",
        "colab": {
          "base_uri": "https://localhost:8080/",
          "height": 34
        }
      },
      "source": [
        "laplacian = cv2.Laplacian(img,cv2.CV_16S,3)\n",
        "cv2.imwrite('Stage_b_laplacian.png', laplacian)"
      ],
      "execution_count": 4,
      "outputs": [
        {
          "output_type": "execute_result",
          "data": {
            "text/plain": [
              "True"
            ]
          },
          "metadata": {
            "tags": []
          },
          "execution_count": 4
        }
      ]
    },
    {
      "cell_type": "code",
      "metadata": {
        "id": "tRoGuOZ9wJlm",
        "colab_type": "code",
        "colab": {}
      },
      "source": [
        "additionImgLaplacian = img + laplacian"
      ],
      "execution_count": 0,
      "outputs": []
    },
    {
      "cell_type": "code",
      "metadata": {
        "id": "qf1u7IfIib8m",
        "colab_type": "code",
        "outputId": "e85328d9-0ed8-4214-9b9d-bb352de56163",
        "colab": {
          "base_uri": "https://localhost:8080/",
          "height": 34
        }
      },
      "source": [
        "sobelX = cv2.Sobel(img,cv2.CV_16S,1,0,ksize=3)\n",
        "sobelY = cv2.Sobel(img,cv2.CV_16S,0,1,ksize=3)\n",
        "sobel = np.absolute(sobelX) + np.absolute(sobelY)\n",
        "cv2.imwrite('Stage_d_Sobel.png', sobel)"
      ],
      "execution_count": 6,
      "outputs": [
        {
          "output_type": "execute_result",
          "data": {
            "text/plain": [
              "True"
            ]
          },
          "metadata": {
            "tags": []
          },
          "execution_count": 6
        }
      ]
    },
    {
      "cell_type": "code",
      "metadata": {
        "id": "tass2kwFnZLo",
        "colab_type": "code",
        "outputId": "382d3ae6-f32b-4416-c88a-2c59b66be1df",
        "colab": {
          "base_uri": "https://localhost:8080/",
          "height": 34
        }
      },
      "source": [
        "blurred = cv2.blur(sobel, (5, 5))\n",
        "cv2.imwrite('Stage_e_blurred.png', blurred)"
      ],
      "execution_count": 7,
      "outputs": [
        {
          "output_type": "execute_result",
          "data": {
            "text/plain": [
              "True"
            ]
          },
          "metadata": {
            "tags": []
          },
          "execution_count": 7
        }
      ]
    },
    {
      "cell_type": "code",
      "metadata": {
        "id": "Bzj1FE_Jolo2",
        "colab_type": "code",
        "outputId": "e84c5ca5-1029-4cb0-dfc1-b3a74b16f8b4",
        "colab": {
          "base_uri": "https://localhost:8080/",
          "height": 34
        }
      },
      "source": [
        "mult = cv2.multiply(additionImgLaplacian, blurred / 255, dtype=cv2.CV_16S)\n",
        "cv2.imwrite('Stage_f_multiply.png', mult)"
      ],
      "execution_count": 8,
      "outputs": [
        {
          "output_type": "execute_result",
          "data": {
            "text/plain": [
              "True"
            ]
          },
          "metadata": {
            "tags": []
          },
          "execution_count": 8
        }
      ]
    },
    {
      "cell_type": "code",
      "metadata": {
        "id": "zoE7b6XQoqPX",
        "colab_type": "code",
        "outputId": "bed51112-861a-4902-905e-6db17cc12ef6",
        "colab": {
          "base_uri": "https://localhost:8080/",
          "height": 34
        }
      },
      "source": [
        "additionImgMult = img + mult\n",
        "cv2.imwrite('Stage_g_additionImgMult.png', additionImgMult)"
      ],
      "execution_count": 9,
      "outputs": [
        {
          "output_type": "execute_result",
          "data": {
            "text/plain": [
              "True"
            ]
          },
          "metadata": {
            "tags": []
          },
          "execution_count": 9
        }
      ]
    }
  ]
}