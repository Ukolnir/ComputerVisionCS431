{
  "nbformat": 4,
  "nbformat_minor": 0,
  "metadata": {
    "colab": {
      "name": "CVLab04.ipynb",
      "provenance": [],
      "collapsed_sections": []
    },
    "kernelspec": {
      "name": "python3",
      "display_name": "Python 3"
    }
  },
  "cells": [
    {
      "cell_type": "code",
      "metadata": {
        "id": "k0TXb6hQfyhZ",
        "colab_type": "code",
        "colab": {}
      },
      "source": [
        "import cv2"
      ],
      "execution_count": 0,
      "outputs": []
    },
    {
      "cell_type": "code",
      "metadata": {
        "id": "5ry1tvNviIBB",
        "colab_type": "code",
        "colab": {}
      },
      "source": [
        "img = cv2.imread(\"skeleton2.png\")"
      ],
      "execution_count": 0,
      "outputs": []
    },
    {
      "cell_type": "code",
      "metadata": {
        "id": "hEFg8ebRiY4h",
        "colab_type": "code",
        "colab": {}
      },
      "source": [
        "import numpy as np"
      ],
      "execution_count": 0,
      "outputs": []
    },
    {
      "cell_type": "code",
      "metadata": {
        "id": "AbW30L2ZvpdN",
        "colab_type": "code",
        "colab": {
          "base_uri": "https://localhost:8080/",
          "height": 34
        },
        "outputId": "54ff7b1e-899a-45bd-8500-e3e13c94cc8c"
      },
      "source": [
        "laplacian = cv2.Laplacian(img,cv2.CV_64F)\n",
        "cv2.imwrite('Stage_b_laplacian.png', laplacian)"
      ],
      "execution_count": 22,
      "outputs": [
        {
          "output_type": "execute_result",
          "data": {
            "text/plain": [
              "True"
            ]
          },
          "metadata": {
            "tags": []
          },
          "execution_count": 22
        }
      ]
    },
    {
      "cell_type": "code",
      "metadata": {
        "id": "tRoGuOZ9wJlm",
        "colab_type": "code",
        "colab": {
          "base_uri": "https://localhost:8080/",
          "height": 34
        },
        "outputId": "d6502ae7-00cf-468f-bc96-952a9b265898"
      },
      "source": [
        "additionImgLaplacian = cv2.add(img, laplacian , dtype=cv2.CV_64F)\n",
        "cv2.imwrite('Stage_c_addition.png', additionImgLaplacian)"
      ],
      "execution_count": 43,
      "outputs": [
        {
          "output_type": "execute_result",
          "data": {
            "text/plain": [
              "True"
            ]
          },
          "metadata": {
            "tags": []
          },
          "execution_count": 43
        }
      ]
    },
    {
      "cell_type": "markdown",
      "metadata": {
        "id": "XwQd5zoq91v4",
        "colab_type": "text"
      },
      "source": [
        "Нет необходимой резкости!"
      ]
    },
    {
      "cell_type": "code",
      "metadata": {
        "id": "qf1u7IfIib8m",
        "colab_type": "code",
        "colab": {
          "base_uri": "https://localhost:8080/",
          "height": 34
        },
        "outputId": "9c902a43-1243-448f-8cb2-edb9db87b6c0"
      },
      "source": [
        "sobelX = cv2.Sobel(image,cv2.CV_64F,1,0,ksize=3)\n",
        "sobelY = cv2.Sobel(image,cv2.CV_64F,0,1,ksize=3)\n",
        "sobel = cv2.add(np.absolute(sobelX), np.absolute(sobelY))\n",
        "cv2.imwrite('Stage_d_Sobel.png', sobel)"
      ],
      "execution_count": 31,
      "outputs": [
        {
          "output_type": "execute_result",
          "data": {
            "text/plain": [
              "True"
            ]
          },
          "metadata": {
            "tags": []
          },
          "execution_count": 31
        }
      ]
    },
    {
      "cell_type": "code",
      "metadata": {
        "id": "tass2kwFnZLo",
        "colab_type": "code",
        "colab": {
          "base_uri": "https://localhost:8080/",
          "height": 34
        },
        "outputId": "e78b301b-5064-4204-816d-fb53c131eab7"
      },
      "source": [
        "blurred = cv2.blur(sobel, (5, 5))\n",
        "cv2.imwrite('Stage_e_blurred.png', blurred)"
      ],
      "execution_count": 32,
      "outputs": [
        {
          "output_type": "execute_result",
          "data": {
            "text/plain": [
              "True"
            ]
          },
          "metadata": {
            "tags": []
          },
          "execution_count": 32
        }
      ]
    },
    {
      "cell_type": "code",
      "metadata": {
        "id": "Bzj1FE_Jolo2",
        "colab_type": "code",
        "colab": {
          "base_uri": "https://localhost:8080/",
          "height": 34
        },
        "outputId": "dcc6e31d-4699-415a-ed39-c5dd08a051a1"
      },
      "source": [
        "mult = cv2.multiply(additionImgLaplacian, blurred / 255, dtype=cv2.CV_64F)\n",
        "cv2.imwrite('Stage_f_multiply.png', mult)"
      ],
      "execution_count": 36,
      "outputs": [
        {
          "output_type": "execute_result",
          "data": {
            "text/plain": [
              "True"
            ]
          },
          "metadata": {
            "tags": []
          },
          "execution_count": 36
        }
      ]
    },
    {
      "cell_type": "code",
      "metadata": {
        "id": "zoE7b6XQoqPX",
        "colab_type": "code",
        "colab": {
          "base_uri": "https://localhost:8080/",
          "height": 34
        },
        "outputId": "0fad7b20-d8f7-4fe0-ac90-17e201c187c7"
      },
      "source": [
        "additionImgMult = cv2.add(img,mult, dtype=cv2.CV_64F)\n",
        "cv2.imwrite('Stage_g_additionImgMult.png', additionImgMult)"
      ],
      "execution_count": 37,
      "outputs": [
        {
          "output_type": "execute_result",
          "data": {
            "text/plain": [
              "True"
            ]
          },
          "metadata": {
            "tags": []
          },
          "execution_count": 37
        }
      ]
    },
    {
      "cell_type": "code",
      "metadata": {
        "id": "amweiHYr5lHF",
        "colab_type": "code",
        "colab": {
          "base_uri": "https://localhost:8080/",
          "height": 34
        },
        "outputId": "19363b7c-b88b-4945-abe3-f4eea828a6be"
      },
      "source": [
        "final = np.array(255*(additionImgMult/255)**0.5,dtype=np.float32)\n",
        "cv2.imwrite('Stage_h_final.png', final)"
      ],
      "execution_count": 50,
      "outputs": [
        {
          "output_type": "execute_result",
          "data": {
            "text/plain": [
              "True"
            ]
          },
          "metadata": {
            "tags": []
          },
          "execution_count": 50
        }
      ]
    },
    {
      "cell_type": "code",
      "metadata": {
        "id": "SOstQnIa50cf",
        "colab_type": "code",
        "colab": {}
      },
      "source": [
        ""
      ],
      "execution_count": 0,
      "outputs": []
    }
  ]
}